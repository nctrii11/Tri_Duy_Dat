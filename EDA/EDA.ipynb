{
 "cells": [
  {
   "cell_type": "markdown",
   "id": "e4edcca8",
   "metadata": {},
   "source": [
    "## Quy trình EDA"
   ]
  },
  {
   "cell_type": "markdown",
   "id": "5afaaf9d",
   "metadata": {},
   "source": [
    "#### Nhập thư viện cần thiết "
   ]
  },
  {
   "cell_type": "code",
   "execution_count": null,
   "id": "7ee30f54",
   "metadata": {},
   "outputs": [],
   "source": [
    "# Thư viện xử lý dữ liệu và trực quan hóa\n",
    "import pandas as pd\n",
    "import numpy as np\n",
    "import seaborn as sns\n",
    "import matplotlib.pyplot as plt\n",
    "from pandas import set_option\n",
    "from matplotlib import pyplot\n",
    "from pandas.plotting import scatter_matrix\n"
   ]
  },
  {
   "cell_type": "markdown",
   "id": "5dfc13f0",
   "metadata": {},
   "source": [
    "#### Đọc dữ liệu "
   ]
  },
  {
   "cell_type": "code",
   "execution_count": null,
   "id": "dbee95a9",
   "metadata": {},
   "outputs": [],
   "source": [
    "# Đọc dữ liệu train và test\n",
    "train_df = pd.read_csv(\"train.csv\")\n",
    "test_df = pd.read_csv(\"test.csv\")\n"
   ]
  },
  {
   "cell_type": "markdown",
   "id": "9a36755f",
   "metadata": {},
   "source": [
    "#### Kiểm tra nhanh dữ liệu "
   ]
  },
  {
   "cell_type": "code",
   "execution_count": null,
   "id": "abdebaf5",
   "metadata": {},
   "outputs": [],
   "source": [
    "# Xem 5 dòng đầu tiên và tổng quan thông tin \n",
    "display(train_df.head())\n",
    "train_df.info()"
   ]
  },
  {
   "cell_type": "markdown",
   "id": "81cd8f17",
   "metadata": {},
   "source": [
    "#### Peek at data (Xem trước dữ liệu Titanic)"
   ]
  },
  {
   "cell_type": "code",
   "execution_count": null,
   "id": "0e93aa18",
   "metadata": {},
   "outputs": [],
   "source": [
    "names = [ 'PassengerId' , 'Survived' , 'Pclass' , 'Name' , 'Sex' , 'Age' , 'SibSp' , 'Parch' ,'Ticket' , 'Fare' , 'Cabin' , 'Embarked']\n",
    "peek = train_df.head(20)\n",
    "print(peek)"
   ]
  },
  {
   "cell_type": "markdown",
   "id": "210ff0a2",
   "metadata": {},
   "source": [
    "#### Dimention of your data (Kích thước của dữ liệu Titanic)"
   ]
  },
  {
   "cell_type": "code",
   "execution_count": null,
   "id": "df9b06d2",
   "metadata": {},
   "outputs": [],
   "source": [
    "names = [ 'PassengerId' , 'Survived' , 'Pclass' , 'Name' , 'Sex' , 'Age' , 'SibSp' , 'Parch' ,'Ticket' , 'Fare' , 'Cabin' , 'Embarked']\n",
    "shape = train_df.shape\n",
    "print(shape)"
   ]
  },
  {
   "cell_type": "markdown",
   "id": "5af63dc4",
   "metadata": {},
   "source": [
    "#### Nhận xét : Bộ dữ liệu của ta có 891 dòng 12 cột"
   ]
  },
  {
   "cell_type": "markdown",
   "id": "0376eb88",
   "metadata": {},
   "source": [
    "#### Data type for each attribute (Kiểu dữ cho từng đặc trưng)"
   ]
  },
  {
   "cell_type": "code",
   "execution_count": null,
   "id": "900e6cdc",
   "metadata": {},
   "outputs": [],
   "source": [
    "names = [ 'PassengerId' , 'Survived' , 'Pclass' , 'Name' , 'Sex' , 'Age' , 'SibSp' , 'Parch' ,'Ticket' , 'Fare' , 'Cabin' , 'Embarked']\n",
    "types = train_df.dtypes\n",
    "print(types)\n",
    "\n",
    "print(train_df.isnull().sum())"
   ]
  },
  {
   "cell_type": "markdown",
   "id": "ae1f3cfd",
   "metadata": {},
   "source": [
    "#### Nhận xét \n",
    "\n",
    "+ Bộ dữ liệu có kiểu dữ liệu float(2) , int(5) , object(5)\n",
    "\n",
    "+ Dữ liệu đặc biệt là Age , Cabin và Embarked \n",
    "\n",
    "+ Dữ liệu bị thiếu là Age(177 dòng) , Cabin(687 dòng) và Embarked(2 dòng) "
   ]
  },
  {
   "cell_type": "markdown",
   "id": "1f9f13c7",
   "metadata": {},
   "source": [
    "#### Desciptive Staistics (Thống kê mô tả dữ liệu)"
   ]
  },
  {
   "cell_type": "code",
   "execution_count": null,
   "id": "4f9a10a3",
   "metadata": {},
   "outputs": [],
   "source": [
    "set_option('display.width', 100)\n",
    "set_option('display.precision', 3)\n",
    "description = train_df.describe()\n",
    "print(description)"
   ]
  },
  {
   "cell_type": "markdown",
   "id": "f013ce38",
   "metadata": {},
   "source": [
    "#### Thông tin bảng \n",
    "\n",
    "+ count : Số lượng giá trị không bị thiếu\n",
    "\n",
    "+ mean : Giá trị trung bình\n",
    "\n",
    "+ std : Độ lệch chuẩn\n",
    "\n",
    "+ min, max : Giá trị nhỏ nhất và lớn nhất\n",
    "\n",
    "+ 25%, 50%, 75% : Các phân vị (quartile)"
   ]
  },
  {
   "cell_type": "markdown",
   "id": "58cd7d47",
   "metadata": {},
   "source": []
  },
  {
   "cell_type": "markdown",
   "id": "95f005ec",
   "metadata": {},
   "source": [
    "#### Class Distribution (Sự phân phối của các lớp)"
   ]
  },
  {
   "cell_type": "code",
   "execution_count": null,
   "id": "93aeaad9",
   "metadata": {},
   "outputs": [],
   "source": [
    "class_counts = train_df.groupby('Survived').size()\n",
    "print(class_counts)\n",
    "\n",
    "train_df['Survived'].value_counts(normalize=True)"
   ]
  },
  {
   "cell_type": "markdown",
   "id": "60338444",
   "metadata": {},
   "source": [
    "#### Nhận xét \n",
    "\n",
    "+ 549 hành khách không sống sót với tỉ lệ 61.6%\n",
    "\n",
    "+ 342 hành khách sống sót với tỉ lệ 38.4%"
   ]
  },
  {
   "cell_type": "markdown",
   "id": "00e49ff0",
   "metadata": {},
   "source": [
    "#### Correlation Between Attributes (Sự tương quan giữa các đặc trưng)"
   ]
  },
  {
   "cell_type": "code",
   "execution_count": null,
   "id": "d529ccf3",
   "metadata": {},
   "outputs": [],
   "source": [
    "set_option('display.width', 100)\n",
    "set_option('display.precision', 3)\n",
    "correlations = train_df.corr(numeric_only=True, method='pearson')\n",
    "print(correlations)\n"
   ]
  },
  {
   "cell_type": "markdown",
   "id": "316170c1",
   "metadata": {},
   "source": [
    "#### Nhận xét \n",
    "Ma trận liệt kê tất cả các thuộc tính (cột) ở hàng trên cùng và cột bên trái,nhằm thể hiện hệ số tương quan giữa mọi cặp thuộc tính trong tập dữ liệu (mỗi cặp xuất hiện hai lần vì ma trận tương quan là đối xứng).Bạn có thể thấy một đường chéo chạy từ góc trên bên trái đến góc dưới bên phải của ma trận đó là những giá trị thể hiện mức tương quan hoàn hảo của mỗi thuộc tính với chính nó."
   ]
  },
  {
   "cell_type": "markdown",
   "id": "82b623c9",
   "metadata": {},
   "source": [
    "#### Skew of Univariate Distributions (Độ lệch của phân phối đơn biến)"
   ]
  },
  {
   "cell_type": "code",
   "execution_count": null,
   "id": "6290b308",
   "metadata": {},
   "outputs": [],
   "source": [
    "numeric_cols = train_df.select_dtypes(include='number')\n",
    "skew = numeric_cols.skew()\n",
    "print(skew)\n"
   ]
  },
  {
   "cell_type": "markdown",
   "id": "49cdea98",
   "metadata": {},
   "source": [
    "####  Nhận xét \n",
    "\n",
    "Kết quả độ lệch (skew) cho biết phân phối có lệch phải (dương) , hoặc lệch trái (âm) . Các giá trị gần 0 cho thấy phân phối gầm đối xứng hơn , tức là ít bị lệch"
   ]
  },
  {
   "cell_type": "markdown",
   "id": "48fdc9e9",
   "metadata": {},
   "source": [
    "#### Trực quan hóa Data\n",
    "\n",
    "Biểu đồ đơn biến"
   ]
  },
  {
   "cell_type": "markdown",
   "id": "d5fbb81d",
   "metadata": {},
   "source": [
    "#### Biểu đồ Histogram"
   ]
  },
  {
   "cell_type": "code",
   "execution_count": null,
   "id": "d862e3b4",
   "metadata": {},
   "outputs": [],
   "source": [
    "\n",
    "numeric_cols = train_df.select_dtypes(include='number')\n",
    "numeric_cols.hist(figsize=(12,10))\n",
    "plt.show()\n"
   ]
  },
  {
   "cell_type": "markdown",
   "id": "6bbc2985",
   "metadata": {},
   "source": [
    "#### Biểu đồ mật độ Density"
   ]
  },
  {
   "cell_type": "code",
   "execution_count": null,
   "id": "2b3af74c",
   "metadata": {},
   "outputs": [],
   "source": [
    "train_df.select_dtypes(include='number').plot(\n",
    "    kind='density', subplots=True, layout=(3,3), sharex=False, figsize=(12,10)\n",
    ")\n",
    "plt.show()\n"
   ]
  },
  {
   "cell_type": "markdown",
   "id": "caca1470",
   "metadata": {},
   "source": [
    "#### Biểu đồ Box và Whisker"
   ]
  },
  {
   "cell_type": "code",
   "execution_count": null,
   "id": "7f616836",
   "metadata": {},
   "outputs": [],
   "source": [
    "numeric_cols = train_df.select_dtypes(include='number')\n",
    "numeric_cols.plot(kind='box', subplots=True, layout=(3,3), sharex=False, sharey=False, figsize=(12,10))\n",
    "plt.show()"
   ]
  },
  {
   "cell_type": "markdown",
   "id": "55ee46fb",
   "metadata": {},
   "source": [
    "#### Trực quan hóa Data\n",
    "\n",
    "Biểu đồ đa biến "
   ]
  },
  {
   "cell_type": "code",
   "execution_count": null,
   "id": "20f5eb05",
   "metadata": {},
   "outputs": [],
   "source": [
    "\n",
    "\n",
    "numeric_cols = train_df.select_dtypes(include='number')\n",
    "correlations = numeric_cols.corr()\n",
    "\n",
    "fig = plt.figure(figsize=(8,6))\n",
    "ax = fig.add_subplot(111)\n",
    "cax = ax.matshow(correlations, vmin=-1, vmax=1, cmap='coolwarm')\n",
    "fig.colorbar(cax)\n",
    "\n",
    "ticks = np.arange(len(numeric_cols.columns))\n",
    "ax.set_xticks(ticks)\n",
    "ax.set_yticks(ticks)\n",
    "ax.set_xticklabels(numeric_cols.columns, rotation=45)\n",
    "ax.set_yticklabels(numeric_cols.columns)\n",
    "\n",
    "plt.show()\n"
   ]
  },
  {
   "cell_type": "markdown",
   "id": "65b2b66d",
   "metadata": {},
   "source": [
    "#### Nhận xét\n",
    "\n",
    "Chúng ta có thể thấy ma trận là đối xứng, tức là phần góc dưới bên trái giống với góc trên bên phải. Điều này hữu ích vì cho phép chúng ta nhìn hai cách khác nhau về cùng một dữ liệu trên cùng một biểu đồ.\n",
    "Chúng ta cũng có thể thấy rằng mỗi biến đều có mối tương quan dương hoàn hảo với chính nó (như mong đợi) trên đường chéo từ góc trên bên trái xuống góc dưới bên phải."
   ]
  },
  {
   "cell_type": "code",
   "execution_count": null,
   "id": "018fa1ba",
   "metadata": {},
   "outputs": [],
   "source": [
    "numeric_cols = train_df.select_dtypes(include='number')\n",
    "correlations = numeric_cols.corr()\n",
    "\n",
    "# plot correlation matrix\n",
    "fig = pyplot.figure()\n",
    "ax = fig.add_subplot(111)\n",
    "cax = ax.matshow(correlations, vmin=-1, vmax=1, cmap='coolwarm')\n",
    "fig.colorbar(cax)\n",
    "pyplot.show()"
   ]
  },
  {
   "cell_type": "markdown",
   "id": "1f539d63",
   "metadata": {},
   "source": [
    "#### Biểu đồ phân tán "
   ]
  },
  {
   "cell_type": "code",
   "execution_count": null,
   "id": "29b6159b",
   "metadata": {},
   "outputs": [],
   "source": [
    "\n",
    "numeric_cols = train_df.select_dtypes(include='number')\n",
    "\n",
    "scatter_matrix(numeric_cols, figsize=(12,10), diagonal='kde')\n",
    "plt.show()\n"
   ]
  },
  {
   "cell_type": "markdown",
   "id": "db68b72e",
   "metadata": {},
   "source": [
    "#### Nhận xét \n",
    "\n",
    "Giống như biểu đồ ma trận tương quan ở trên, ma trận scatter plot cũng đối xứng.\n",
    "Điều này hữu ích để quan sát mối quan hệ từng cặp biến từ các góc nhìn khác nhau.\n",
    "Vì không cần thiết phải vẽ scatter plot của một biến với chính nó, nên đường chéo sẽ hiển thị histogram (biểu đồ tần suất) của từng thuộc tính."
   ]
  },
  {
   "cell_type": "markdown",
   "id": "828fb511",
   "metadata": {},
   "source": [
    "# Làm sạch dữ liệu hoặc điền các giá trị bị thiếu"
   ]
  },
  {
   "cell_type": "markdown",
   "id": "590442bf",
   "metadata": {},
   "source": [
    "#### Simple Row Del Method (Phương pháp xóa dòng đơn giản)"
   ]
  },
  {
   "cell_type": "markdown",
   "id": "e992a33d",
   "metadata": {},
   "source": [
    "#### Kiểm tra các giá trị bị thiếu (NaN) trong dữ liệu huấn luyện"
   ]
  },
  {
   "cell_type": "code",
   "execution_count": null,
   "id": "0f3c3ed1",
   "metadata": {},
   "outputs": [],
   "source": [
    "train_df.isnull()"
   ]
  },
  {
   "cell_type": "markdown",
   "id": "16b987ff",
   "metadata": {},
   "source": [
    "#### Kiểm tra các giá trị bị thiếu (NaN) trong dữ liệu huấn luyện"
   ]
  },
  {
   "cell_type": "code",
   "execution_count": null,
   "id": "acb0a9f1",
   "metadata": {},
   "outputs": [],
   "source": [
    "train_df.isnull().sum()"
   ]
  },
  {
   "cell_type": "markdown",
   "id": "5bccebd3",
   "metadata": {},
   "source": [
    "#### Trực quan hóa dữ liệu thiếu (NaN) trong DataFrame bằng biểu đồ Heatmap"
   ]
  },
  {
   "cell_type": "code",
   "execution_count": null,
   "id": "8af0f5cc",
   "metadata": {},
   "outputs": [],
   "source": [
    "sns.heatmap(train_df.isnull())"
   ]
  },
  {
   "cell_type": "markdown",
   "id": "2ebbfb43",
   "metadata": {},
   "source": [
    "#### Tính tỷ lệ phần trăm giá trị thiếu (NaN) trên từng cột trong dữ liệu huấn luyện"
   ]
  },
  {
   "cell_type": "code",
   "execution_count": null,
   "id": "eb939e75",
   "metadata": {},
   "outputs": [],
   "source": [
    "null_var = train_df.isnull().sum()/train_df.shape[0] *100\n",
    "null_var"
   ]
  },
  {
   "cell_type": "markdown",
   "id": "c2032d6d",
   "metadata": {},
   "source": [
    "#### Xác định các cột có tỷ lệ giá trị thiếu trên 20% để loại bỏ"
   ]
  },
  {
   "cell_type": "code",
   "execution_count": null,
   "id": "85e162a0",
   "metadata": {},
   "outputs": [],
   "source": [
    "drop_column = null_var[null_var >20].keys()\n",
    "drop_column"
   ]
  },
  {
   "cell_type": "markdown",
   "id": "5b0e9217",
   "metadata": {},
   "source": [
    "#### Loại bỏ các cột có tỷ lệ giá trị thiếu trên 20% khỏi dữ liệu huấn luyện"
   ]
  },
  {
   "cell_type": "code",
   "execution_count": null,
   "id": "95f78b69",
   "metadata": {},
   "outputs": [],
   "source": [
    "N_Titanic_datA = train_df.drop(columns = drop_column)"
   ]
  },
  {
   "cell_type": "markdown",
   "id": "6fc85a03",
   "metadata": {},
   "source": [
    "#### Tạo các bản sao của dữ liệu huấn luyện để phục vụ các bước xử lý và phân tích khác nhau"
   ]
  },
  {
   "cell_type": "code",
   "execution_count": null,
   "id": "dd9b904c",
   "metadata": {},
   "outputs": [],
   "source": [
    "Titanic_copy = train_df.copy()\n",
    "Titanic_copy2 =train_df.copy()\n",
    "Titanic_Deep = Titanic_copy.copy()"
   ]
  },
  {
   "cell_type": "markdown",
   "id": "7c2dcb9b",
   "metadata": {},
   "source": [
    "#### Trực quan hóa dữ liệu thiếu (NaN) trong DataFrame đã loại bỏ cột nhiều NaN bằng biểu đồ Heatmap"
   ]
  },
  {
   "cell_type": "code",
   "execution_count": null,
   "id": "70bf2d7b",
   "metadata": {},
   "outputs": [],
   "source": [
    "sns.heatmap( N_Titanic_datA.isnull())"
   ]
  },
  {
   "cell_type": "markdown",
   "id": "086c8ff8",
   "metadata": {},
   "source": [
    "#### Tính tỷ lệ phần trăm giá trị thiếu (NaN) trong DataFrame sau khi loại bỏ các cột nhiều NaN"
   ]
  },
  {
   "cell_type": "code",
   "execution_count": null,
   "id": "2406bc10",
   "metadata": {},
   "outputs": [],
   "source": [
    "N_Titanic_datA.isnull().sum()/Titanic_Deep.shape[0] *100"
   ]
  },
  {
   "cell_type": "markdown",
   "id": "c5188c5a",
   "metadata": {},
   "source": [
    "#### Loại bỏ tất cả các dòng chứa giá trị thiếu (NaN) trong DataFrame đã lọc"
   ]
  },
  {
   "cell_type": "code",
   "execution_count": null,
   "id": "b2351c1a",
   "metadata": {},
   "outputs": [],
   "source": [
    "N_Titanic_datAA = N_Titanic_datA.dropna()"
   ]
  },
  {
   "cell_type": "markdown",
   "id": "1dadeeed",
   "metadata": {},
   "source": [
    "#### Kiểm tra trực quan dữ liệu sau khi loại bỏ các dòng có giá trị thiếu bằng biểu đồ Heatmap"
   ]
  },
  {
   "cell_type": "code",
   "execution_count": null,
   "id": "8b140e67",
   "metadata": {},
   "outputs": [],
   "source": [
    "sns.heatmap( N_Titanic_datAA.isnull())"
   ]
  },
  {
   "cell_type": "markdown",
   "id": "54f9448f",
   "metadata": {},
   "source": [
    "#### Lấy danh sách các cột thuộc kiểu dữ liệu danh mục (categorical) trong tập huấn luyện và tập kiểm tra"
   ]
  },
  {
   "cell_type": "code",
   "execution_count": null,
   "id": "73838f49",
   "metadata": {},
   "outputs": [],
   "source": [
    "Categorical_Values = N_Titanic_datAA.select_dtypes(include=[\"object\"]).columns\n",
    "Categorical_Values_test = test_df.select_dtypes(include=[\"object\"]).columns"
   ]
  },
  {
   "cell_type": "markdown",
   "id": "a091d520",
   "metadata": {},
   "source": [
    "#### Lấy danh sách các cột thuộc kiểu dữ liệu số (numerical) trong tập huấn luyện và tập kiểm tra"
   ]
  },
  {
   "cell_type": "code",
   "execution_count": null,
   "id": "e5c9e219",
   "metadata": {},
   "outputs": [],
   "source": [
    "Numarical_Values = N_Titanic_datAA.select_dtypes(include=['int64','float64']).columns\n",
    "Numarical_Values_test = test_df.select_dtypes(include=['int64','float64']).columns"
   ]
  },
  {
   "cell_type": "markdown",
   "id": "0ad6852c",
   "metadata": {},
   "source": [
    "#### Kiểm tra kích thước (số dòng, số cột) của tập dữ liệu kiểm tra"
   ]
  },
  {
   "cell_type": "code",
   "execution_count": null,
   "id": "c341e8f6",
   "metadata": {},
   "outputs": [],
   "source": [
    "test_df.shape"
   ]
  },
  {
   "cell_type": "markdown",
   "id": "d5a21f5b",
   "metadata": {},
   "source": [
    "#### Hàm so sánh tỷ lệ phân phối phần trăm của biến phân loại trước và sau khi làm sạch dữ liệu"
   ]
  },
  {
   "cell_type": "code",
   "execution_count": null,
   "id": "54e0781f",
   "metadata": {},
   "outputs": [],
   "source": [
    "def cat_var_dist(var):\n",
    "    return pd.concat([Titanic_Deep[var].value_counts()/Titanic_Deep.shape[0] * 100, \n",
    "          N_Titanic_datAA[var].value_counts()/N_Titanic_datAA.shape[0] * 100], axis=1,\n",
    "         keys=[var+'_org', var+'clean'])\n",
    "    "
   ]
  },
  {
   "cell_type": "markdown",
   "id": "83337de7",
   "metadata": {},
   "source": [
    "#### So sánh phân phối phần trăm giá trị của biến 'Ticket' trước và sau khi làm sạch dữ liệu"
   ]
  },
  {
   "cell_type": "code",
   "execution_count": null,
   "id": "972e3d0e",
   "metadata": {},
   "outputs": [],
   "source": [
    "cat_var_dist(\"Ticket\")"
   ]
  },
  {
   "cell_type": "markdown",
   "id": "d56b3cd7",
   "metadata": {},
   "source": [
    "#### SimpleImputer Method (Phương pháp SimpleImputer)"
   ]
  },
  {
   "cell_type": "markdown",
   "id": "a9a82214",
   "metadata": {},
   "source": [
    "#### Khởi tạo đối tượng SimpleImputer với chiến lược điền giá trị trung bình (mean) cho dữ liệu thiếu\""
   ]
  },
  {
   "cell_type": "code",
   "execution_count": null,
   "id": "f18df41e",
   "metadata": {},
   "outputs": [],
   "source": [
    "from sklearn.impute import SimpleImputer\n",
    "Imputer_mean = SimpleImputer(strategy='mean')"
   ]
  },
  {
   "cell_type": "markdown",
   "id": "8cfbcd3e",
   "metadata": {},
   "source": [
    "#### Huấn luyện (fit) bộ Imputer để tính giá trị trung bình của các biến số trong dữ liệu gốc"
   ]
  },
  {
   "cell_type": "code",
   "execution_count": null,
   "id": "23f183b4",
   "metadata": {},
   "outputs": [],
   "source": [
    "Imputer_mean.fit(Titanic_Deep[Numarical_Values])"
   ]
  },
  {
   "cell_type": "markdown",
   "id": "2b56b2a6",
   "metadata": {},
   "source": [
    "#### Xem giá trị trung bình của từng biến số được tính bởi SimpleImputer"
   ]
  },
  {
   "cell_type": "code",
   "execution_count": null,
   "id": "9e213a9c",
   "metadata": {},
   "outputs": [],
   "source": [
    "Imputer_mean.statistics_"
   ]
  },
  {
   "cell_type": "markdown",
   "id": "fc6d38f2",
   "metadata": {},
   "source": [
    "#### Áp dụng SimpleImputer để thay thế giá trị thiếu trong các biến số bằng giá trị trung bình tương ứng"
   ]
  },
  {
   "cell_type": "code",
   "execution_count": null,
   "id": "7d864850",
   "metadata": {},
   "outputs": [],
   "source": [
    "Imputer_mean.transform(Titanic_Deep[Numarical_Values])"
   ]
  },
  {
   "cell_type": "markdown",
   "id": "098b8a1a",
   "metadata": {},
   "source": [
    "#### Điền giá trị thiếu trong các cột số bằng giá trị trung bình và lưu kết quả vào biến phụ"
   ]
  },
  {
   "cell_type": "code",
   "execution_count": null,
   "id": "4f6a563f",
   "metadata": {},
   "outputs": [],
   "source": [
    "Titanic_Deep[Numarical_Values] = Imputer_mean.transform(Titanic_Deep[Numarical_Values])\n",
    "nnnn = Titanic_Deep[Numarical_Values]"
   ]
  },
  {
   "cell_type": "markdown",
   "id": "33ee875e",
   "metadata": {},
   "source": [
    "#### Kiểm tra số lượng giá trị thiếu còn lại trong các cột số sau khi điền bằng giá trị trung bình"
   ]
  },
  {
   "cell_type": "code",
   "execution_count": null,
   "id": "88ede9ca",
   "metadata": {},
   "outputs": [],
   "source": [
    "Titanic_Deep[Numarical_Values].isnull().sum()"
   ]
  },
  {
   "cell_type": "markdown",
   "id": "923c9020",
   "metadata": {},
   "source": [
    "#### Khởi tạo SimpleImputer với chiến lược điền giá trị thiếu bằng giá trị xuất hiện nhiều nhất (most frequent)"
   ]
  },
  {
   "cell_type": "code",
   "execution_count": null,
   "id": "718af986",
   "metadata": {},
   "outputs": [],
   "source": [
    "Imputer_mean = SimpleImputer(strategy='most_frequent')"
   ]
  },
  {
   "cell_type": "markdown",
   "id": "3862b2e3",
   "metadata": {},
   "source": [
    "#### Điền giá trị thiếu trong các cột danh mục bằng giá trị xuất hiện nhiều nhất (mode) sử dụng SimpleImputer"
   ]
  },
  {
   "cell_type": "code",
   "execution_count": null,
   "id": "14c0be67",
   "metadata": {},
   "outputs": [],
   "source": [
    "Titanic_Deep[Categorical_Values] = Imputer_mean.fit_transform(Titanic_Deep[Categorical_Values])"
   ]
  },
  {
   "cell_type": "markdown",
   "id": "ecf0cec3",
   "metadata": {},
   "source": [
    "#### Kiểm tra số lượng giá trị thiếu còn lại trong các cột danh mục sau khi điền bằng giá trị phổ biến nhất"
   ]
  },
  {
   "cell_type": "code",
   "execution_count": null,
   "id": "33eddb90",
   "metadata": {},
   "outputs": [],
   "source": [
    "Titanic_Deep[Categorical_Values].isnull().sum()"
   ]
  },
  {
   "cell_type": "markdown",
   "id": "a6f0725c",
   "metadata": {},
   "source": [
    "#### Kết hợp dữ liệu số và dữ liệu danh mục đã được xử lý thành một DataFrame mới"
   ]
  },
  {
   "cell_type": "code",
   "execution_count": null,
   "id": "3dd6bd65",
   "metadata": {},
   "outputs": [],
   "source": [
    "New_Titanic_datA = pd.concat([Titanic_Deep[Numarical_Values] , Titanic_Deep[Categorical_Values]] , axis=1)"
   ]
  },
  {
   "cell_type": "markdown",
   "id": "9622a28f",
   "metadata": {},
   "source": [
    "#### Kiểm tra tổng số giá trị thiếu trong DataFrame sau khi kết hợp dữ liệu đã xử lý"
   ]
  },
  {
   "cell_type": "code",
   "execution_count": null,
   "id": "08af9d31",
   "metadata": {},
   "outputs": [],
   "source": [
    "New_Titanic_datA.isnull().sum()"
   ]
  },
  {
   "cell_type": "markdown",
   "id": "63b0e927",
   "metadata": {},
   "source": [
    "#### Phương pháp sử dụng Trung bình, Trung vị và Mốt"
   ]
  },
  {
   "cell_type": "markdown",
   "id": "48449adf",
   "metadata": {},
   "source": [
    "#### Xác định các cột có tỷ lệ giá trị thiếu trên 20% để loại bỏ"
   ]
  },
  {
   "cell_type": "code",
   "execution_count": null,
   "id": "43c2ddac",
   "metadata": {},
   "outputs": [],
   "source": [
    "skip_column = null_var[null_var >20].keys()\n",
    "skip_column"
   ]
  },
  {
   "cell_type": "markdown",
   "id": "2bc7d491",
   "metadata": {},
   "source": [
    "#### Loại bỏ các cột có tỷ lệ giá trị thiếu trên 20% khỏi bản sao dữ liệu Titanic"
   ]
  },
  {
   "cell_type": "code",
   "execution_count": null,
   "id": "20428889",
   "metadata": {},
   "outputs": [],
   "source": [
    "Nn_Titanic_datA = Titanic_copy.drop(columns = skip_column)"
   ]
  },
  {
   "cell_type": "markdown",
   "id": "06b2046b",
   "metadata": {},
   "source": [
    "#### Điền giá trị thiếu trong các cột số bằng giá trị trung bình và loại bỏ các dòng còn thiếu dữ liệu"
   ]
  },
  {
   "cell_type": "code",
   "execution_count": null,
   "id": "cfad6e2e",
   "metadata": {},
   "outputs": [],
   "source": [
    "numeric_cols = Nn_Titanic_datA.select_dtypes(include='number').columns\n",
    "Titanic_mean = Nn_Titanic_datA.copy()\n",
    "Titanic_mean[numeric_cols] = Titanic_mean[numeric_cols].fillna(Titanic_mean[numeric_cols].mean())\n",
    "Titanic_mean = Titanic_mean.dropna()\n",
    "print(Titanic_mean.isnull().sum())"
   ]
  },
  {
   "cell_type": "markdown",
   "id": "a289d112",
   "metadata": {},
   "source": [
    "#### Điền giá trị thiếu trong các cột số bằng giá trị trung vị (median) và loại bỏ các dòng còn thiếu dữ liệu"
   ]
  },
  {
   "cell_type": "code",
   "execution_count": null,
   "id": "6edd4b41",
   "metadata": {},
   "outputs": [],
   "source": [
    "numeric_cols = Nn_Titanic_datA.select_dtypes(include='number').columns\n",
    "Titanic_median = Nn_Titanic_datA.copy()\n",
    "Titanic_median[numeric_cols] = Titanic_median[numeric_cols].fillna(Titanic_median[numeric_cols].median())\n",
    "Titanic_median = Titanic_median.dropna()\n",
    "print(Titanic_median.isnull().sum())\n"
   ]
  },
  {
   "cell_type": "markdown",
   "id": "b9558855",
   "metadata": {},
   "source": [
    "#### So sánh hiệu quả các phương pháp làm sạch dữ liệu thiếu (xóa dòng, SimpleImputer, median, mean)"
   ]
  },
  {
   "cell_type": "code",
   "execution_count": null,
   "id": "8dcb5e47",
   "metadata": {},
   "outputs": [],
   "source": [
    "print(\"*\"*30 , \"Data Cleaning Using Different Method\" , \"*\"*30)\n",
    "print(\"*\"*30 , \"Simple Row Delete Mehtod\" , \"*\"*30)\n",
    "print(N_Titanic_datAA.isnull().sum())\n",
    "print(\"*\"*30 , \"SimpleImputer Method\" , \"*\"*30)\n",
    "print(New_Titanic_datA.isnull().sum())\n",
    "print(\"*\"*30 , \"Median\" , \"*\"*30)\n",
    "print(Titanic_median.isnull().sum())\n",
    "print(\"*\"*30 , \"Mean\" , \"*\"*30)\n",
    "print(Titanic_mean.isnull().sum())"
   ]
  },
  {
   "cell_type": "markdown",
   "id": "411d1674",
   "metadata": {},
   "source": [
    "# Kết thúc"
   ]
  }
 ],
 "metadata": {
  "kernelspec": {
   "display_name": "Python 3",
   "language": "python",
   "name": "python3"
  },
  "language_info": {
   "codemirror_mode": {
    "name": "ipython",
    "version": 3
   },
   "file_extension": ".py",
   "mimetype": "text/x-python",
   "name": "python",
   "nbconvert_exporter": "python",
   "pygments_lexer": "ipython3",
   "version": "3.13.2"
  }
 },
 "nbformat": 4,
 "nbformat_minor": 5
}
