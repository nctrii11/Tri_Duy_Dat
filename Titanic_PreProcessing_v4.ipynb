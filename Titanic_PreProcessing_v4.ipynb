{
 "cells": [
  {
   "cell_type": "code",
   "execution_count": 1,
   "id": "15d24f61",
   "metadata": {},
   "outputs": [
    {
     "name": "stdout",
     "output_type": "stream",
     "text": [
      "Đang tạo bộ dữ liệu cuối cùng theo phương pháp đơn giản hóa...\n"
     ]
    },
    {
     "name": "stderr",
     "output_type": "stream",
     "text": [
      "C:\\Users\\DELL\\AppData\\Local\\Temp\\ipykernel_13552\\1380753056.py:25: FutureWarning: A value is trying to be set on a copy of a DataFrame or Series through chained assignment using an inplace method.\n",
      "The behavior will change in pandas 3.0. This inplace method will never work because the intermediate object on which we are setting values always behaves as a copy.\n",
      "\n",
      "For example, when doing 'df[col].method(value, inplace=True)', try using 'df.method({col: value}, inplace=True)' or df[col] = df[col].method(value) instead, to perform the operation inplace on the original object.\n",
      "\n",
      "\n",
      "  combined_df['Embarked'].fillna(combined_df['Embarked'].mode()[0], inplace=True)\n",
      "C:\\Users\\DELL\\AppData\\Local\\Temp\\ipykernel_13552\\1380753056.py:26: FutureWarning: A value is trying to be set on a copy of a DataFrame or Series through chained assignment using an inplace method.\n",
      "The behavior will change in pandas 3.0. This inplace method will never work because the intermediate object on which we are setting values always behaves as a copy.\n",
      "\n",
      "For example, when doing 'df[col].method(value, inplace=True)', try using 'df.method({col: value}, inplace=True)' or df[col] = df[col].method(value) instead, to perform the operation inplace on the original object.\n",
      "\n",
      "\n",
      "  combined_df['Fare'].fillna(combined_df['Fare'].median(), inplace=True)\n"
     ]
    },
    {
     "name": "stdout",
     "output_type": "stream",
     "text": [
      "Đã lưu dữ liệu vào 'Data_clean_v4'. Số đặc trưng: 20\n"
     ]
    },
    {
     "name": "stderr",
     "output_type": "stream",
     "text": [
      "C:\\Users\\DELL\\AppData\\Local\\Temp\\ipykernel_13552\\1380753056.py:54: SettingWithCopyWarning: \n",
      "A value is trying to be set on a copy of a slice from a DataFrame.\n",
      "Try using .loc[row_indexer,col_indexer] = value instead\n",
      "\n",
      "See the caveats in the documentation: https://pandas.pydata.org/pandas-docs/stable/user_guide/indexing.html#returning-a-view-versus-a-copy\n",
      "  train_final['Survived'] = y_target\n"
     ]
    }
   ],
   "source": [
    "# -*- coding: utf-8 -*-\n",
    "\"\"\"\n",
    "Pipeline cuối cùng, áp dụng triết lý \"Less is More\".\n",
    "Tập trung vào các đặc trưng cốt lõi và hiệu quả nhất.\n",
    "\"\"\"\n",
    "\n",
    "import pandas as pd\n",
    "import numpy as np\n",
    "import os\n",
    "from sklearn.ensemble import RandomForestRegressor\n",
    "\n",
    "# Tải dữ liệu\n",
    "try:\n",
    "    train_df_raw = pd.read_csv('train.csv')\n",
    "    test_df_raw = pd.read_csv('test.csv')\n",
    "except FileNotFoundError:\n",
    "    print(\"Lỗi: Không tìm thấy file train.csv hoặc test.csv.\")\n",
    "    exit()\n",
    "\n",
    "def create_final_features(train_df, test_df):\n",
    "    y_target = train_df['Survived']\n",
    "    combined_df = pd.concat([train_df.drop('Survived', axis=1), test_df], ignore_index=True)\n",
    "    \n",
    "    # --- Điền giá trị thiếu ---\n",
    "    combined_df['Embarked'].fillna(combined_df['Embarked'].mode()[0], inplace=True)\n",
    "    combined_df['Fare'].fillna(combined_df['Fare'].median(), inplace=True)\n",
    "    \n",
    "    # --- Dự đoán Age ---\n",
    "    df_for_age_pred = combined_df.copy()\n",
    "    df_for_age_pred['Title_temp'] = df_for_age_pred['Name'].str.extract(' ([A-Za-z]+)\\\\.', expand=False)\n",
    "    # ... (logic dự đoán Age giữ nguyên)\n",
    "    df_for_age_pred['Sex_temp'] = df_for_age_pred['Sex'].map({'male': 0, 'female': 1})\n",
    "    age_features = ['Pclass', 'Sex_temp', 'SibSp', 'Parch', 'Fare']\n",
    "    age_regressor = RandomForestRegressor(n_estimators=100, random_state=42)\n",
    "    age_regressor.fit(df_for_age_pred[df_for_age_pred['Age'].notna()][age_features], df_for_age_pred[df_for_age_pred['Age'].notna()]['Age'])\n",
    "    predicted_age = age_regressor.predict(df_for_age_pred[df_for_age_pred['Age'].isna()][age_features])\n",
    "    combined_df.loc[combined_df['Age'].isna(), 'Age'] = predicted_age\n",
    "    \n",
    "    # --- Feature Engineering Cốt lõi ---\n",
    "    combined_df['FamilySize'] = combined_df['SibSp'] + combined_df['Parch'] + 1\n",
    "    combined_df['IsAlone'] = (combined_df['FamilySize'] == 1).astype(int)\n",
    "    combined_df['Title'] = combined_df['Name'].str.extract(' ([A-Za-z]+)\\\\.', expand=False)\n",
    "    combined_df['Title'] = combined_df['Title'].replace(['Lady', 'Countess','Capt', 'Col', 'Don', 'Dr', 'Major', 'Rev', 'Sir', 'Jonkheer', 'Dona'], 'Rare').replace({'Mlle': 'Miss', 'Ms': 'Miss', 'Mme': 'Mrs'})\n",
    "    combined_df['Deck'] = combined_df['Cabin'].str[0].fillna('U')\n",
    "    \n",
    "    # --- Xóa và Mã hóa ---\n",
    "    combined_s = combined_df.drop(columns=['Name', 'Ticket', 'Cabin', 'SibSp', 'Parch'])\n",
    "    categorical_cols = ['Sex', 'Embarked', 'Title', 'Deck']\n",
    "    combined_final = pd.get_dummies(combined_s, columns=categorical_cols, drop_first=True, dtype=int)\n",
    "    \n",
    "    # Tách lại\n",
    "    train_final = combined_final.iloc[:len(train_df)]\n",
    "    test_final = combined_final.iloc[len(train_df):]\n",
    "    train_final['Survived'] = y_target\n",
    "    \n",
    "    return train_final, test_final\n",
    "\n",
    "# Thực thi và lưu\n",
    "print(\"Đang tạo bộ dữ liệu cuối cùng theo phương pháp đơn giản hóa...\")\n",
    "train_final_df, test_final_df = create_final_features(train_df_raw, test_df_raw)\n",
    "\n",
    "save_dir = \"Data_clean_v4\"\n",
    "if not os.path.exists(save_dir):\n",
    "    os.makedirs(save_dir)\n",
    "\n",
    "train_final_df.to_csv(f'{save_dir}/train_cleaned.csv', index=False)\n",
    "test_final_df.to_csv(f'{save_dir}/test_cleaned.csv', index=False)\n",
    "\n",
    "print(f\"Đã lưu dữ liệu vào '{save_dir}'. Số đặc trưng: {len(train_final_df.columns) - 2}\")"
   ]
  }
 ],
 "metadata": {
  "kernelspec": {
   "display_name": "Python 3",
   "language": "python",
   "name": "python3"
  },
  "language_info": {
   "codemirror_mode": {
    "name": "ipython",
    "version": 3
   },
   "file_extension": ".py",
   "mimetype": "text/x-python",
   "name": "python",
   "nbconvert_exporter": "python",
   "pygments_lexer": "ipython3",
   "version": "3.13.9"
  }
 },
 "nbformat": 4,
 "nbformat_minor": 5
}
